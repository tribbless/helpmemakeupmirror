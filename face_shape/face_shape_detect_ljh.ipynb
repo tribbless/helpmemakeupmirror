{
 "cells": [
  {
   "cell_type": "code",
   "execution_count": 25,
   "metadata": {},
   "outputs": [],
   "source": [
    "# Importing the Keras libraries and packages\n",
    "# 사용할 패키지 불러오기\n",
    "from keras.models import Sequential\n",
    "from keras.layers import Conv2D\n",
    "from keras.layers import MaxPooling2D\n",
    "from keras.layers import Flatten\n",
    "from keras.layers import Dense\n",
    "from keras.callbacks import ModelCheckpoint, EarlyStopping\n",
    "import tensorflow as tf\n",
    "from keras.preprocessing.image import ImageDataGenerator\n",
    "from keras import optimizers\n",
    "from PIL import ImageFile\n",
    "ImageFile.LOAD_TRUNCATED_IMAGES = True"
   ]
  },
  {
   "cell_type": "code",
   "execution_count": 26,
   "metadata": {},
   "outputs": [],
   "source": [
    "# Initialising the CNN`\n",
    "classifier = Sequential()\n",
    "\n",
    "# Step 1 - Convolution\n",
    "classifier.add(Conv2D(32, (3, 3), input_shape = (64, 64, 3), activation = 'relu'))\n",
    "\n",
    "\n",
    "# Step 2 - Pooling\n",
    "classifier.add(MaxPooling2D(pool_size = (2, 2)))\n",
    "\n",
    "# Adding a second convolutional layer\n",
    "#classifier.add(Conv2D(32, (3, 3), activation = 'relu'))\n",
    "classifier.add(Conv2D(20, (3, 3), activation='relu'))\n",
    "classifier.add(MaxPooling2D(pool_size = (2, 2)))\n",
    "\n",
    "\n",
    "classifier.add(Conv2D(90, (3, 3), activation='relu'))\n",
    "classifier.add(MaxPooling2D(pool_size=(2, 2)))\n",
    "\n",
    "\n",
    "# Step 3 - Flattening\n",
    "classifier.add(Flatten())\n",
    "\n",
    "\n",
    "# Step 4 - Full connection\n",
    "#classifier.add(Dense(units = 128, activation = 'relu'))\n",
    "#classifier.add(Dense(units = 1, activation = 'sigmoid'))\n",
    "\n",
    "classifier.add(Dense(activation='relu', units=64))\n",
    "classifier.add(Dense(activation='softmax', units=4))\n",
    "\n",
    "sgd = optimizers.SGD(lr=0.01, decay=1e-6, momentum=0.9, nesterov=True)\n",
    "\n",
    "# Compiling the CNN\n",
    "#classifier.compile(optimizer = 'adam', loss = 'binary_crossentropy', metrics = ['accuracy'])\n",
    "#loss : 현재 가중치 세트를 평가하는 데 사용한 손실 함수 입니다. 다중 클래스 문제이므로 ‘categorical_crossentropy’으로 지정합니다.\n",
    "#optimizer : 최적의 가중치를 검색하는 데 사용되는 최적화 알고리즘으로 효율적인 경사 하강법 알고리즘 중 하나인 ‘adam’을 사용합니다.\n",
    "#metrics : 평가 척도를 나타내며 분류 문제에서는 일반적으로 ‘accuracy’으로 지정합니다.\n",
    "classifier.compile(loss='sparse_categorical_crossentropy',\n",
    "                 optimizer='sgd',\n",
    "                  metrics=['accuracy'])\n",
    "\n",
    "# adam -> sgd"
   ]
  },
  {
   "cell_type": "code",
   "execution_count": null,
   "metadata": {},
   "outputs": [],
   "source": []
  },
  {
   "cell_type": "code",
   "execution_count": 27,
   "metadata": {
    "scrolled": true
   },
   "outputs": [
    {
     "name": "stdout",
     "output_type": "stream",
     "text": [
      "Found 2572 images belonging to 3 classes.\n",
      "Found 400 images belonging to 3 classes.\n"
     ]
    }
   ],
   "source": [
    "# 데이터셋 생성하기\n",
    "\n",
    "# ImageDataGenerator : 이미지 전처리. 실시간 데이터 증강을 사용해서 텐서 이미지 데이터 배치를 생성합니다. 데이터에 대해 (배치 단위로) 루프가 순환됩니다.\n",
    "\n",
    "# rescale : 크기 재조절 인수. 디폴트 값은 None입니다. None 혹은 0인 경우 크기 재조절이 적용되지 않고, 그 외의 경우 (다른 변형을 전부 적용한 후에) 데이터를 주어진 값으로 곱합니다.\n",
    "# shear_range : 부동소수점. 층밀리기의 강도입니다. (도 단위의 반시계 방향 층밀리기 각도)\n",
    "# zoom_range : 부동소수점 혹은 [하한, 상산]. 무작위 줌의 범위입니다. 부동소수점인 경우, [하한, 상한] = [1-zoom_range, 1+zoom_range]입니다.\n",
    "# horizontal_flip : 불리언. 인풋을 무작위로 가로로 뒤집습니다.\n",
    "\n",
    "train_datagen = ImageDataGenerator(rescale = 1./255,\n",
    "                                   shear_range = 0.2,\n",
    "                                   zoom_range = 0.2,\n",
    "                                   horizontal_flip = True)\n",
    "\n",
    "test_datagen = ImageDataGenerator(rescale = 1./255)\n",
    "\n",
    "training_set = train_datagen.flow_from_directory('dataset/training_set',\n",
    "                                                 target_size = (64, 64),\n",
    "                                                 batch_size = 24,\n",
    "                                                 class_mode = 'binary')\n",
    "\n",
    "test_set = test_datagen.flow_from_directory('dataset/test_set',\n",
    "                                            target_size = (64, 64),\n",
    "                                            batch_size = 24,\n",
    "                                            class_mode = 'binary')\n"
   ]
  },
  {
   "cell_type": "code",
   "execution_count": 28,
   "metadata": {},
   "outputs": [],
   "source": [
    "#from IPython.display import SVG\n",
    "#from keras.utils.vis_utils import model_to_dot\n",
    "\n",
    "#%matplotlib inline\n",
    "\n",
    "#SVG(model_to_dot(classifier, show_shapes=True).create(prog='dot', format='svg'))"
   ]
  },
  {
   "cell_type": "code",
   "execution_count": 29,
   "metadata": {},
   "outputs": [],
   "source": [
    "# 추가\n",
    "import os\n",
    "MODEL_DIR = './model'\n",
    "if not os.path.exists(MODEL_DIR):\n",
    "    os.mkdir(MODEL_DIR)\n",
    "    \n",
    "modelpath=\"./model/{epoch:02d}-{val_loss:.4f}.hdf5\"\n",
    "\n",
    "checkpointer = ModelCheckpoint(filepath = modelpath, monitor='val_loss', verbose=1, save_best_only=True)"
   ]
  },
  {
   "cell_type": "code",
   "execution_count": 30,
   "metadata": {},
   "outputs": [
    {
     "name": "stdout",
     "output_type": "stream",
     "text": [
      "WARNING:tensorflow:`period` argument is deprecated. Please use `save_freq` to specify the frequency in number of batches seen.\n",
      "Epoch 1/500\n",
      "20/20 [==============================] - 12s 597ms/step - loss: 1.2159 - accuracy: 0.4375 - val_loss: 0.9200 - val_accuracy: 0.6081\n",
      "\n",
      "Epoch 00001: val_loss improved from inf to 0.92003, saving model to ./model/01-0.9200.hdf5\n",
      "Epoch 2/500\n",
      "20/20 [==============================] - 10s 481ms/step - loss: 1.0184 - accuracy: 0.4708 - val_loss: 0.8474 - val_accuracy: 0.5657\n",
      "\n",
      "Epoch 00002: val_loss improved from 0.92003 to 0.84738, saving model to ./model/02-0.8474.hdf5\n",
      "Epoch 3/500\n",
      "20/20 [==============================] - 9s 470ms/step - loss: 1.0133 - accuracy: 0.4826 - val_loss: 0.9828 - val_accuracy: 0.4767\n",
      "\n",
      "Epoch 00003: val_loss did not improve from 0.84738\n",
      "Epoch 4/500\n",
      "20/20 [==============================] - 10s 484ms/step - loss: 1.0323 - accuracy: 0.4708 - val_loss: 0.9700 - val_accuracy: 0.2754\n",
      "\n",
      "Epoch 00004: val_loss did not improve from 0.84738\n",
      "Epoch 5/500\n",
      "20/20 [==============================] - 11s 570ms/step - loss: 0.9833 - accuracy: 0.4958 - val_loss: 1.0399 - val_accuracy: 0.6504\n",
      "\n",
      "Epoch 00005: val_loss did not improve from 0.84738\n",
      "Epoch 6/500\n",
      "20/20 [==============================] - 15s 731ms/step - loss: 1.0233 - accuracy: 0.4812 - val_loss: 1.1229 - val_accuracy: 0.2823\n",
      "\n",
      "Epoch 00006: val_loss did not improve from 0.84738\n",
      "Epoch 7/500\n",
      "20/20 [==============================] - 10s 495ms/step - loss: 1.0034 - accuracy: 0.4833 - val_loss: 0.8383 - val_accuracy: 0.4979\n",
      "\n",
      "Epoch 00007: val_loss improved from 0.84738 to 0.83829, saving model to ./model/07-0.8383.hdf5\n",
      "Epoch 8/500\n",
      "20/20 [==============================] - 11s 534ms/step - loss: 0.9897 - accuracy: 0.5083 - val_loss: 1.0487 - val_accuracy: 0.5869\n",
      "\n",
      "Epoch 00008: val_loss did not improve from 0.83829\n",
      "Epoch 9/500\n",
      "20/20 [==============================] - 10s 522ms/step - loss: 0.9654 - accuracy: 0.5167 - val_loss: 0.6386 - val_accuracy: 0.5064\n",
      "\n",
      "Epoch 00009: val_loss improved from 0.83829 to 0.63858, saving model to ./model/09-0.6386.hdf5\n",
      "Epoch 10/500\n",
      "20/20 [==============================] - 10s 514ms/step - loss: 0.9996 - accuracy: 0.4708 - val_loss: 0.9353 - val_accuracy: 0.3814\n",
      "\n",
      "Epoch 00010: val_loss did not improve from 0.63858\n",
      "Epoch 11/500\n",
      "20/20 [==============================] - 11s 561ms/step - loss: 1.0086 - accuracy: 0.5000 - val_loss: 1.1374 - val_accuracy: 0.3051\n",
      "\n",
      "Epoch 00011: val_loss did not improve from 0.63858\n",
      "Epoch 12/500\n",
      "20/20 [==============================] - 13s 635ms/step - loss: 0.9806 - accuracy: 0.5396 - val_loss: 0.8729 - val_accuracy: 0.5431\n",
      "\n",
      "Epoch 00012: val_loss did not improve from 0.63858\n",
      "Epoch 13/500\n",
      "20/20 [==============================] - 10s 506ms/step - loss: 0.9830 - accuracy: 0.4938 - val_loss: 1.0583 - val_accuracy: 0.5212\n",
      "\n",
      "Epoch 00013: val_loss did not improve from 0.63858\n",
      "Epoch 14/500\n",
      "20/20 [==============================] - 10s 510ms/step - loss: 0.9255 - accuracy: 0.5688 - val_loss: 0.8969 - val_accuracy: 0.4131\n",
      "\n",
      "Epoch 00014: val_loss did not improve from 0.63858\n",
      "Epoch 15/500\n",
      "20/20 [==============================] - 9s 458ms/step - loss: 0.9733 - accuracy: 0.5312 - val_loss: 0.9121 - val_accuracy: 0.6314\n",
      "\n",
      "Epoch 00015: val_loss did not improve from 0.63858\n",
      "Epoch 16/500\n",
      "20/20 [==============================] - 10s 509ms/step - loss: 0.9920 - accuracy: 0.4938 - val_loss: 1.0140 - val_accuracy: 0.4195\n",
      "\n",
      "Epoch 00016: val_loss did not improve from 0.63858\n",
      "Epoch 17/500\n",
      "20/20 [==============================] - 13s 675ms/step - loss: 0.9825 - accuracy: 0.5065 - val_loss: 0.8962 - val_accuracy: 0.6142\n",
      "\n",
      "Epoch 00017: val_loss did not improve from 0.63858\n",
      "Epoch 18/500\n",
      "20/20 [==============================] - 10s 479ms/step - loss: 0.9774 - accuracy: 0.5125 - val_loss: 1.1894 - val_accuracy: 0.3390\n",
      "\n",
      "Epoch 00018: val_loss did not improve from 0.63858\n",
      "Epoch 19/500\n",
      "20/20 [==============================] - 10s 491ms/step - loss: 0.9829 - accuracy: 0.5167 - val_loss: 1.2021 - val_accuracy: 0.2987\n",
      "\n",
      "Epoch 00019: val_loss did not improve from 0.63858\n"
     ]
    }
   ],
   "source": [
    "checkpoint_path = \"./training_face_shape/cp-{epoch:04d}.ckpt\"\n",
    "checkpoint_dir = os.path.dirname(checkpoint_path)\n",
    "\n",
    "cp_callback = tf.keras.callbacks.ModelCheckpoint(\n",
    "    filepath=checkpoint_path, \n",
    "    verbose=1, \n",
    "    save_weights_only=True,\n",
    "    period=5)\n",
    "\n",
    "#10회 간 Validation점수가 좋아지지 않으면 중지합니다.\n",
    "early_stopping = EarlyStopping(monitor='val_loss', patience=10)\n",
    "\n",
    "classifier.save_weights(checkpoint_path.format(epoch=0))\n",
    "\n",
    "his = classifier.fit_generator(training_set,\n",
    "                               steps_per_epoch = 20,\n",
    "                               epochs = 500,\n",
    "                               validation_data = test_set,\n",
    "                               validation_steps=20,\n",
    "                               callbacks=[checkpointer, early_stopping])\n",
    "\n",
    "#his = classifier.fit_generator(training_set,\n",
    "#                         steps_per_epoch = 347,\n",
    "#                         verbose=1,\n",
    "#                         epochs = 50,\n",
    "#                         validation_data = test_set,\n",
    "#                         validation_steps=11, callbacks=[checkpointer])"
   ]
  },
  {
   "cell_type": "code",
   "execution_count": 31,
   "metadata": {},
   "outputs": [
    {
     "data": {
      "image/png": "[encoded data removed]",
      "text/plain": [
       "<Figure size 432x288 with 1 Axes>"
      ]
     },
     "metadata": {
      "needs_background": "light"
     },
     "output_type": "display_data"
    }
   ],
   "source": [
    "import matplotlib.pyplot as plt\n",
    "\n",
    "plt.plot(his.history['accuracy'])\n",
    "plt.plot(his.history['val_accuracy'])\n",
    "plt.legend(['training', 'validation'], loc = 'upper left')\n",
    "plt.show()"
   ]
  },
  {
   "cell_type": "code",
   "execution_count": 32,
   "metadata": {},
   "outputs": [
    {
     "name": "stderr",
     "output_type": "stream",
     "text": [
      "매개 변수 포맷이 틀립니다 - \"raining_face_shape\".\n"
     ]
    }
   ],
   "source": [
    "ls {checkpoint_dir}"
   ]
  },
  {
   "cell_type": "code",
   "execution_count": 33,
   "metadata": {},
   "outputs": [],
   "source": [
    "#classifier.save('./my_face_shape_model2.h5')\n",
    "classifier.save('models/my_model_12')\n",
    "#del classifier\n",
    "#classifier = load_model('my_model.h5')"
   ]
  },
  {
   "cell_type": "code",
   "execution_count": 34,
   "metadata": {},
   "outputs": [
    {
     "name": "stdout",
     "output_type": "stream",
     "text": [
      "Model: \"sequential_3\"\n",
      "_________________________________________________________________\n",
      "Layer (type)                 Output Shape              Param #   \n",
      "=================================================================\n",
      "conv2d_7 (Conv2D)            (None, 62, 62, 32)        896       \n",
      "_________________________________________________________________\n",
      "max_pooling2d_7 (MaxPooling2 (None, 31, 31, 32)        0         \n",
      "_________________________________________________________________\n",
      "conv2d_8 (Conv2D)            (None, 29, 29, 20)        5780      \n",
      "_________________________________________________________________\n",
      "max_pooling2d_8 (MaxPooling2 (None, 14, 14, 20)        0         \n",
      "_________________________________________________________________\n",
      "conv2d_9 (Conv2D)            (None, 12, 12, 90)        16290     \n",
      "_________________________________________________________________\n",
      "max_pooling2d_9 (MaxPooling2 (None, 6, 6, 90)          0         \n",
      "_________________________________________________________________\n",
      "flatten_3 (Flatten)          (None, 3240)              0         \n",
      "_________________________________________________________________\n",
      "dense_5 (Dense)              (None, 64)                207424    \n",
      "_________________________________________________________________\n",
      "dense_6 (Dense)              (None, 4)                 260       \n",
      "=================================================================\n",
      "Total params: 230,650\n",
      "Trainable params: 230,650\n",
      "Non-trainable params: 0\n",
      "_________________________________________________________________\n"
     ]
    }
   ],
   "source": [
    "from keras.models import load_model\n",
    "classifier = load_model('models/my_model_12')\n",
    "\n",
    "classifier.summary()"
   ]
  },
  {
   "cell_type": "code",
   "execution_count": 35,
   "metadata": {},
   "outputs": [
    {
     "name": "stdout",
     "output_type": "stream",
     "text": [
      "-- Evaluate --\n",
      "accuracy: 32.50%\n"
     ]
    }
   ],
   "source": [
    "print(\"-- Evaluate --\")\n",
    "scores = classifier.evaluate_generator(test_set, steps=5)\n",
    "\n",
    "#print(his.history['loss'])\n",
    "#print(his.history['acc'])\n",
    "#print(his.history['val_loss'])\n",
    "#print(his.history['val_acc'])\n",
    "\n",
    "#classifier.save(\"face_shape_model.h5\")\n",
    "print(\"%s: %.2f%%\" %(classifier.metrics_names[1], scores[1]*100))"
   ]
  },
  {
   "cell_type": "code",
   "execution_count": 36,
   "metadata": {},
   "outputs": [
    {
     "name": "stdout",
     "output_type": "stream",
     "text": [
      "17/17 [==============================] - 8s 486ms/step\n",
      "\n",
      " Test Accuracy: 0.3000\n",
      "17/17 [==============================] - 7s 428ms/step\n",
      "\n",
      " Test Accuracy: 1.2097\n"
     ]
    }
   ],
   "source": [
    "print(\"\\n Test Accuracy: %.4f\" % (classifier.evaluate(test_set)[1]))\n",
    "print(\"\\n Test Accuracy: %.4f\" % (classifier.evaluate(test_set)[0]))"
   ]
  },
  {
   "cell_type": "code",
   "execution_count": 15,
   "metadata": {},
   "outputs": [],
   "source": [
    "import numpy as np\n",
    "from keras.preprocessing import image"
   ]
  },
  {
   "cell_type": "code",
   "execution_count": 16,
   "metadata": {},
   "outputs": [],
   "source": [
    "test_image = image.load_img('../virtual_makeup/test_image/ex2.jpg', target_size = (64, 64))\n",
    "#test_image = image.img_to_array(test_image)\n",
    "#test_image = np.expand_dims(test_image, axis = 0)\n",
    "#output = classifier.predict_generator(test_image, steps=5)\n",
    "#output\n",
    "test_image = image.img_to_array(test_image)\n",
    "test_image = np.expand_dims(test_image, axis = 0)"
   ]
  },
  {
   "cell_type": "code",
   "execution_count": 17,
   "metadata": {},
   "outputs": [],
   "source": [
    "result = classifier.predict(test_image)"
   ]
  },
  {
   "cell_type": "code",
   "execution_count": 18,
   "metadata": {},
   "outputs": [
    {
     "data": {
      "text/plain": [
       "array([[9.9997401e-01, 2.5984327e-05, 0.0000000e+00, 0.0000000e+00]],\n",
       "      dtype=float32)"
      ]
     },
     "execution_count": 18,
     "metadata": {},
     "output_type": "execute_result"
    }
   ],
   "source": [
    "result"
   ]
  },
  {
   "cell_type": "code",
   "execution_count": 19,
   "metadata": {},
   "outputs": [],
   "source": [
    "np.around(result)\n",
    "result=result.argmax()"
   ]
  },
  {
   "cell_type": "code",
   "execution_count": 20,
   "metadata": {},
   "outputs": [
    {
     "data": {
      "text/plain": [
       "0"
      ]
     },
     "execution_count": 20,
     "metadata": {},
     "output_type": "execute_result"
    }
   ],
   "source": [
    "result\n"
   ]
  },
  {
   "cell_type": "code",
   "execution_count": 21,
   "metadata": {
    "scrolled": true
   },
   "outputs": [
    {
     "data": {
      "text/plain": [
       "{'Oblong': 0, 'Round': 1, 'Square': 2}"
      ]
     },
     "execution_count": 21,
     "metadata": {},
     "output_type": "execute_result"
    }
   ],
   "source": [
    "training_set.class_indices"
   ]
  },
  {
   "cell_type": "code",
   "execution_count": 22,
   "metadata": {},
   "outputs": [],
   "source": [
    "if result == 0:\n",
    "    prediction = 'Oblong'\n",
    "elif result == 1:\n",
    "    prediction = 'Round'\n",
    "else:\n",
    "    prediction = 'Square'"
   ]
  },
  {
   "cell_type": "code",
   "execution_count": 23,
   "metadata": {},
   "outputs": [
    {
     "data": {
      "text/plain": [
       "'Oblong'"
      ]
     },
     "execution_count": 23,
     "metadata": {},
     "output_type": "execute_result"
    }
   ],
   "source": [
    "prediction"
   ]
  },
  {
   "cell_type": "code",
   "execution_count": null,
   "metadata": {},
   "outputs": [],
   "source": []
  },
  {
   "cell_type": "code",
   "execution_count": null,
   "metadata": {},
   "outputs": [],
   "source": []
  },
  {
   "cell_type": "code",
   "execution_count": null,
   "metadata": {},
   "outputs": [],
   "source": []
  },
  {
   "cell_type": "code",
   "execution_count": null,
   "metadata": {},
   "outputs": [],
   "source": []
  },
  {
   "cell_type": "code",
   "execution_count": 21,
   "metadata": {},
   "outputs": [
    {
     "ename": "FileNotFoundError",
     "evalue": "[Errno 2] No such file or directory: 'CNN_fashion_mnist_model.json'",
     "output_type": "error",
     "traceback": [
      "\u001b[1;31m---------------------------------------------------------------------------\u001b[0m",
      "\u001b[1;31mFileNotFoundError\u001b[0m                         Traceback (most recent call last)",
      "\u001b[1;32m<ipython-input-21-f59a65e5f2b4>\u001b[0m in \u001b[0;36m<module>\u001b[1;34m\u001b[0m\n\u001b[0;32m      2\u001b[0m \u001b[1;33m\u001b[0m\u001b[0m\n\u001b[0;32m      3\u001b[0m \u001b[1;31m# model.json 파일 열기\u001b[0m\u001b[1;33m\u001b[0m\u001b[1;33m\u001b[0m\u001b[1;33m\u001b[0m\u001b[0m\n\u001b[1;32m----> 4\u001b[1;33m \u001b[0mjson_file\u001b[0m \u001b[1;33m=\u001b[0m \u001b[0mopen\u001b[0m\u001b[1;33m(\u001b[0m\u001b[1;34m\"CNN_fashion_mnist_model.json\"\u001b[0m\u001b[1;33m,\u001b[0m \u001b[1;34m\"r\"\u001b[0m\u001b[1;33m)\u001b[0m\u001b[1;33m\u001b[0m\u001b[1;33m\u001b[0m\u001b[0m\n\u001b[0m\u001b[0;32m      5\u001b[0m \u001b[0mloaded_model_json\u001b[0m \u001b[1;33m=\u001b[0m \u001b[0mjson_file\u001b[0m\u001b[1;33m.\u001b[0m\u001b[0mread\u001b[0m\u001b[1;33m(\u001b[0m\u001b[1;33m)\u001b[0m\u001b[1;33m\u001b[0m\u001b[1;33m\u001b[0m\u001b[0m\n\u001b[0;32m      6\u001b[0m \u001b[0mjson_file\u001b[0m\u001b[1;33m.\u001b[0m\u001b[0mclose\u001b[0m\u001b[1;33m(\u001b[0m\u001b[1;33m)\u001b[0m\u001b[1;33m\u001b[0m\u001b[1;33m\u001b[0m\u001b[0m\n",
      "\u001b[1;31mFileNotFoundError\u001b[0m: [Errno 2] No such file or directory: 'CNN_fashion_mnist_model.json'"
     ]
    }
   ],
   "source": [
    "from tensorflow.compat.v2.keras.models import model_from_json \n",
    "\n",
    "# model.json 파일 열기 \n",
    "json_file = open(\"CNN_fashion_mnist_model.json\", \"r\") \n",
    "loaded_model_json = json_file.read() \n",
    "json_file.close() \n",
    "\n",
    "# json파일로부터 model 로드하기 \n",
    "loaded_model = model_from_json(loaded_model_json) \n",
    "# 로드한 model에 weight 로드하기 \n",
    "loaded_model.load_weights(\"CNN_fashion_mnist_model.h5\") \n",
    "print(\"Loaded model from disk\")\n"
   ]
  },
  {
   "cell_type": "code",
   "execution_count": 22,
   "metadata": {},
   "outputs": [
    {
     "ename": "NameError",
     "evalue": "name 'loaded_model' is not defined",
     "output_type": "error",
     "traceback": [
      "\u001b[1;31m---------------------------------------------------------------------------\u001b[0m",
      "\u001b[1;31mNameError\u001b[0m                                 Traceback (most recent call last)",
      "\u001b[1;32m<ipython-input-22-68b48cb6854a>\u001b[0m in \u001b[0;36m<module>\u001b[1;34m\u001b[0m\n\u001b[0;32m      1\u001b[0m \u001b[1;31m# 모델 컴파일\u001b[0m\u001b[1;33m\u001b[0m\u001b[1;33m\u001b[0m\u001b[1;33m\u001b[0m\u001b[0m\n\u001b[1;32m----> 2\u001b[1;33m loaded_model.compile(optimizer = 'adam', \n\u001b[0m\u001b[0;32m      3\u001b[0m                      \u001b[0mloss\u001b[0m \u001b[1;33m=\u001b[0m \u001b[1;34m'sparse_categorical_crossentropy'\u001b[0m\u001b[1;33m,\u001b[0m\u001b[1;33m\u001b[0m\u001b[1;33m\u001b[0m\u001b[0m\n\u001b[0;32m      4\u001b[0m                      metrics = ['accuracy']) \n\u001b[0;32m      5\u001b[0m \u001b[1;33m\u001b[0m\u001b[0m\n",
      "\u001b[1;31mNameError\u001b[0m: name 'loaded_model' is not defined"
     ]
    }
   ],
   "source": [
    "# 모델 컴파일 \n",
    "loaded_model.compile(optimizer = 'adam', \n",
    "                     loss = 'sparse_categorical_crossentropy', \n",
    "                     metrics = ['accuracy']) \n",
    "\n",
    "# 모델 evaluation \n",
    "test_loss, test_acc = loaded_model.evaluate(test_X, test_y) \n",
    "print(\"Accuracy : %.2f%%\" % (test_acc*100))\n"
   ]
  },
  {
   "cell_type": "code",
   "execution_count": null,
   "metadata": {},
   "outputs": [],
   "source": []
  }
 ],
 "metadata": {
  "kernelspec": {
   "display_name": "Python 3",
   "language": "python",
   "name": "python3"
  },
  "language_info": {
   "codemirror_mode": {
    "name": "ipython",
    "version": 3
   },
   "file_extension": ".py",
   "mimetype": "text/x-python",
   "name": "python",
   "nbconvert_exporter": "python",
   "pygments_lexer": "ipython3",
   "version": "3.7.6"
  }
 },
 "nbformat": 4,
 "nbformat_minor": 4
}
