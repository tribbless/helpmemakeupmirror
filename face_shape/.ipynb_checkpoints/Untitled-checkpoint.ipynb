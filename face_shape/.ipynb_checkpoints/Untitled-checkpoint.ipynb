{
 "cells": [
  {
   "cell_type": "code",
   "execution_count": 1,
   "metadata": {},
   "outputs": [
    {
     "name": "stderr",
     "output_type": "stream",
     "text": [
      "Using TensorFlow backend.\n"
     ]
    }
   ],
   "source": [
    "# Importing the Keras libraries and packages\n",
    "from keras.models import Sequential\n",
    "from keras.layers import Conv2D\n",
    "from keras.layers import MaxPooling2D\n",
    "from keras.layers import Flatten\n",
    "from keras.layers import Dense"
   ]
  },
  {
   "cell_type": "code",
   "execution_count": 2,
   "metadata": {},
   "outputs": [],
   "source": [
    "# Initialising the CNN\n",
    "classifier = Sequential()\n",
    "\n",
    "# Step 1 - Convolution\n",
    "classifier.add(Conv2D(32, (3, 3), input_shape = (64, 64, 3), activation = 'relu'))\n",
    "\n",
    "\n",
    "# Step 2 - Pooling\n",
    "classifier.add(MaxPooling2D(pool_size = (2, 2)))\n",
    "\n",
    "# Adding a second convolutional layer\n",
    "#classifier.add(Conv2D(32, (3, 3), activation = 'relu'))\n",
    "classifier.add(Conv2D(20, (3, 3), activation='relu'))\n",
    "classifier.add(MaxPooling2D(pool_size = (2, 2)))\n",
    "\n",
    "\n",
    "classifier.add(Conv2D(90, (3, 3), activation='relu'))\n",
    "classifier.add(MaxPooling2D(pool_size=(2, 2)))\n",
    "\n",
    "\n",
    "# Step 3 - Flattening\n",
    "classifier.add(Flatten())\n",
    "\n",
    "\n",
    "# Step 4 - Full connection\n",
    "#classifier.add(Dense(units = 128, activation = 'relu'))\n",
    "#classifier.add(Dense(units = 1, activation = 'sigmoid'))\n",
    "\n",
    "classifier.add(Dense(activation='relu', units=64))\n",
    "classifier.add(Dense(activation='softmax', units=4))\n",
    "\n",
    "# Compiling the CNN\n",
    "#classifier.compile(optimizer = 'adam', loss = 'binary_crossentropy', metrics = ['accuracy'])\n",
    "classifier.compile(loss='sparse_categorical_crossentropy',\n",
    "                 optimizer='adam',\n",
    "                  metrics=['accuracy'])"
   ]
  },
  {
   "cell_type": "code",
   "execution_count": 3,
   "metadata": {},
   "outputs": [],
   "source": [
    "from keras.preprocessing.image import ImageDataGenerator"
   ]
  },
  {
   "cell_type": "code",
   "execution_count": 4,
   "metadata": {},
   "outputs": [
    {
     "name": "stdout",
     "output_type": "stream",
     "text": [
      "Found 300 images belonging to 3 classes.\n",
      "Found 25 images belonging to 3 classes.\n"
     ]
    }
   ],
   "source": [
    "train_datagen = ImageDataGenerator(rescale = 1./255,\n",
    "                                   shear_range = 0.2,\n",
    "                                   zoom_range = 0.2,\n",
    "                                   horizontal_flip = True)\n",
    "\n",
    "test_datagen = ImageDataGenerator(rescale = 1./255)\n",
    "\n",
    "training_set = train_datagen.flow_from_directory('dataset/training_set',\n",
    "                                                 target_size = (64, 64),\n",
    "                                                 batch_size = 32,\n",
    "                                                 class_mode = 'binary')\n",
    "\n",
    "test_set = test_datagen.flow_from_directory('dataset/test_set',\n",
    "                                            target_size = (64, 64),\n",
    "                                            batch_size = 32,\n",
    "                                            class_mode = 'binary')\n"
   ]
  },
  {
   "cell_type": "code",
   "execution_count": 5,
   "metadata": {},
   "outputs": [
    {
     "name": "stdout",
     "output_type": "stream",
     "text": [
      "Epoch 1/10\n",
      "100/100 [==============================] - 58s 575ms/step - loss: 0.9787 - accuracy: 0.4983 - val_loss: 1.1894 - val_accuracy: 0.4800\n",
      "Epoch 2/10\n",
      "100/100 [==============================] - 57s 570ms/step - loss: 0.7615 - accuracy: 0.6510 - val_loss: 1.3148 - val_accuracy: 0.4800\n",
      "Epoch 3/10\n",
      "100/100 [==============================] - 57s 571ms/step - loss: 0.5742 - accuracy: 0.7713 - val_loss: 1.5503 - val_accuracy: 0.4400\n",
      "Epoch 4/10\n",
      "100/100 [==============================] - 54s 541ms/step - loss: 0.4403 - accuracy: 0.8180 - val_loss: 1.7586 - val_accuracy: 0.3200\n",
      "Epoch 5/10\n",
      "100/100 [==============================] - 55s 546ms/step - loss: 0.3072 - accuracy: 0.8870 - val_loss: 1.9624 - val_accuracy: 0.4400\n",
      "Epoch 6/10\n",
      "100/100 [==============================] - 54s 544ms/step - loss: 0.1893 - accuracy: 0.9330 - val_loss: 2.2296 - val_accuracy: 0.5600\n",
      "Epoch 7/10\n",
      "100/100 [==============================] - 55s 546ms/step - loss: 0.1325 - accuracy: 0.9543 - val_loss: 2.5185 - val_accuracy: 0.4400\n",
      "Epoch 8/10\n",
      "100/100 [==============================] - 55s 547ms/step - loss: 0.0907 - accuracy: 0.9697 - val_loss: 2.9013 - val_accuracy: 0.4400\n",
      "Epoch 9/10\n",
      "100/100 [==============================] - 57s 573ms/step - loss: 0.0986 - accuracy: 0.9663 - val_loss: 2.4829 - val_accuracy: 0.5200\n",
      "Epoch 10/10\n",
      "100/100 [==============================] - 58s 575ms/step - loss: 0.0566 - accuracy: 0.9810 - val_loss: 3.1760 - val_accuracy: 0.5200\n"
     ]
    },
    {
     "data": {
      "text/plain": [
       "<keras.callbacks.callbacks.History at 0x1bc60828108>"
      ]
     },
     "execution_count": 5,
     "metadata": {},
     "output_type": "execute_result"
    }
   ],
   "source": [
    "classifier.fit_generator(training_set,\n",
    "                         steps_per_epoch = 100, \n",
    "                         verbose=1,\n",
    "                         epochs = 10,\n",
    "                         validation_data = test_set)"
   ]
  },
  {
   "cell_type": "code",
   "execution_count": 6,
   "metadata": {},
   "outputs": [
    {
     "name": "stdout",
     "output_type": "stream",
     "text": [
      "-- Evaluate --\n",
      "accuracy: 52.00%\n"
     ]
    }
   ],
   "source": [
    "print(\"-- Evaluate --\")\n",
    "scores = classifier.evaluate_generator(test_set, steps=5)\n",
    "print(\"%s: %.2f%%\" %(classifier.metrics_names[1], scores[1]*100))"
   ]
  },
  {
   "cell_type": "code",
   "execution_count": 7,
   "metadata": {},
   "outputs": [],
   "source": [
    "import numpy as np\n",
    "from keras.preprocessing import image"
   ]
  },
  {
   "cell_type": "code",
   "execution_count": 16,
   "metadata": {},
   "outputs": [],
   "source": [
    "test_image = image.load_img('./image/ex1.jpg', target_size = (64, 64))\n",
    "#test_image = image.img_to_array(test_image)\n",
    "#test_image = np.expand_dims(test_image, axis = 0)\n",
    "#output = classifier.predict_generator(test_image, steps=5)\n",
    "#output\n",
    "test_image = image.img_to_array(test_image)\n",
    "test_image = np.expand_dims(test_image, axis = 0)"
   ]
  },
  {
   "cell_type": "code",
   "execution_count": 17,
   "metadata": {},
   "outputs": [],
   "source": [
    "result = classifier.predict(test_image)"
   ]
  },
  {
   "cell_type": "code",
   "execution_count": 18,
   "metadata": {},
   "outputs": [
    {
     "data": {
      "text/plain": [
       "array([[0., 0., 1., 0.]], dtype=float32)"
      ]
     },
     "execution_count": 18,
     "metadata": {},
     "output_type": "execute_result"
    }
   ],
   "source": [
    "result"
   ]
  },
  {
   "cell_type": "code",
   "execution_count": 19,
   "metadata": {},
   "outputs": [],
   "source": [
    "np.around(result)\n",
    "result=result.argmax()"
   ]
  },
  {
   "cell_type": "code",
   "execution_count": 20,
   "metadata": {},
   "outputs": [
    {
     "data": {
      "text/plain": [
       "2"
      ]
     },
     "execution_count": 20,
     "metadata": {},
     "output_type": "execute_result"
    }
   ],
   "source": [
    "result"
   ]
  },
  {
   "cell_type": "code",
   "execution_count": 21,
   "metadata": {},
   "outputs": [
    {
     "data": {
      "text/plain": [
       "{'Oblong': 0, 'Round': 1, 'Square': 2}"
      ]
     },
     "execution_count": 21,
     "metadata": {},
     "output_type": "execute_result"
    }
   ],
   "source": [
    "training_set.class_indices"
   ]
  },
  {
   "cell_type": "code",
   "execution_count": 22,
   "metadata": {},
   "outputs": [],
   "source": [
    "if result == 0:\n",
    "    prediction = 'Oblong'\n",
    "elif result == 1:\n",
    "    prediction = 'Round'\n",
    "else:\n",
    "    prediction = 'Square'"
   ]
  },
  {
   "cell_type": "code",
   "execution_count": 23,
   "metadata": {},
   "outputs": [
    {
     "data": {
      "text/plain": [
       "'Square'"
      ]
     },
     "execution_count": 23,
     "metadata": {},
     "output_type": "execute_result"
    }
   ],
   "source": [
    "prediction"
   ]
  },
  {
   "cell_type": "code",
   "execution_count": null,
   "metadata": {},
   "outputs": [],
   "source": []
  }
 ],
 "metadata": {
  "kernelspec": {
   "display_name": "Python 3",
   "language": "python",
   "name": "python3"
  },
  "language_info": {
   "codemirror_mode": {
    "name": "ipython",
    "version": 3
   },
   "file_extension": ".py",
   "mimetype": "text/x-python",
   "name": "python",
   "nbconvert_exporter": "python",
   "pygments_lexer": "ipython3",
   "version": "3.7.6"
  }
 },
 "nbformat": 4,
 "nbformat_minor": 4
}
